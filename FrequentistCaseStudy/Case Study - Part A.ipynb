{
 "cells": [
  {
   "cell_type": "markdown",
   "metadata": {},
   "source": [
    "# Frequentist Inference Case Study - Part A "
   ]
  },
  {
   "cell_type": "markdown",
   "metadata": {},
   "source": [
    "## 1. Learning objectives"
   ]
  },
  {
   "cell_type": "markdown",
   "metadata": {},
   "source": [
    "Welcome to part A of the Frequentist inference case study! The purpose of this case study is to help you apply the concepts associated with Frequentist inference in Python. Frequentist inference is the process of deriving conclusions about an underlying distribution via the observation of data. In particular, you'll practice writing Python code to apply the following statistical concepts: \n",
    "* the _z_-statistic\n",
    "* the _t_-statistic\n",
    "* the difference and relationship between the two\n",
    "* the Central Limit Theorem, including its assumptions and consequences\n",
    "* how to estimate the population mean and standard deviation from a sample\n",
    "* the concept of a sampling distribution of a test statistic, particularly for the mean\n",
    "* how to combine these concepts to calculate a confidence interval"
   ]
  },
  {
   "cell_type": "markdown",
   "metadata": {},
   "source": [
    "## Prerequisites"
   ]
  },
  {
   "cell_type": "markdown",
   "metadata": {},
   "source": [
    "To be able to complete this notebook, you are expected to have a basic understanding of:\n",
    "* what a random variable is (p.400 of Professor Spiegelhalter's *The Art of Statistics, hereinafter AoS*)\n",
    "* what a population, and a population distribution, are (p. 397 of *AoS*)\n",
    "* a high-level sense of what the normal distribution is (p. 394 of *AoS*)\n",
    "* what the t-statistic is (p. 275 of *AoS*)\n",
    "\n",
    "Happily, these should all be concepts with which you are reasonably familiar after having read ten chapters of Professor Spiegelhalter's book, *The Art of Statistics*.\n",
    "\n",
    "We'll try to relate the concepts in this case study back to page numbers in *The Art of Statistics* so that you can focus on the Python aspects of this case study. The second part (part B) of this case study will involve another, more real-world application of these tools. "
   ]
  },
  {
   "cell_type": "markdown",
   "metadata": {},
   "source": [
    "For this notebook, we will use data sampled from a known normal distribution. This allows us to compare our results with theoretical expectations."
   ]
  },
  {
   "cell_type": "markdown",
   "metadata": {},
   "source": [
    "## 2. An introduction to sampling from the normal distribution"
   ]
  },
  {
   "cell_type": "markdown",
   "metadata": {},
   "source": [
    "First, let's explore the ways we can generate the normal distribution. While there's a fair amount of interest in [sklearn](https://scikit-learn.org/stable/) within the machine learning community, you're likely to have heard of [scipy](https://docs.scipy.org/doc/scipy-0.15.1/reference/index.html) if you're coming from the sciences. For this assignment, you'll use [scipy.stats](https://docs.scipy.org/doc/scipy-0.15.1/reference/tutorial/stats.html) to complete your work. \n",
    "\n",
    "This assignment will require some digging around and getting your hands dirty (your learning is maximized that way)! You should have the research skills and the tenacity to do these tasks independently, but if you struggle, reach out to your immediate community and your mentor for help. "
   ]
  },
  {
   "cell_type": "code",
   "execution_count": 2,
   "metadata": {},
   "outputs": [],
   "source": [
    "from scipy.stats import norm\n",
    "from scipy.stats import t\n",
    "import numpy as np\n",
    "import pandas as pd\n",
    "from numpy.random import seed\n",
    "import matplotlib.pyplot as plt"
   ]
  },
  {
   "cell_type": "markdown",
   "metadata": {},
   "source": [
    "__Q1:__ Call up the documentation for the `norm` function imported above. (Hint: that documentation is [here](https://docs.scipy.org/doc/scipy/reference/generated/scipy.stats.norm.html)). What is the second listed method?"
   ]
  },
  {
   "cell_type": "code",
   "execution_count": null,
   "metadata": {},
   "outputs": [],
   "source": [
    "Probability Density Function"
   ]
  },
  {
   "cell_type": "markdown",
   "metadata": {},
   "source": [
    "__A:__"
   ]
  },
  {
   "cell_type": "markdown",
   "metadata": {},
   "source": [
    "__Q2:__ Use the method that generates random variates to draw five samples from the standard normal distribution. "
   ]
  },
  {
   "cell_type": "markdown",
   "metadata": {},
   "source": [
    "__A:__"
   ]
  },
  {
   "cell_type": "code",
   "execution_count": 3,
   "metadata": {},
   "outputs": [
    {
     "data": {
      "text/plain": [
       "array([-0.84800948,  1.30590636,  0.92420797,  0.6404118 , -1.05473698])"
      ]
     },
     "execution_count": 3,
     "metadata": {},
     "output_type": "execute_result"
    }
   ],
   "source": [
    "seed(47)\n",
    "# draw five samples here\n",
    "rs = norm.rvs(size=5)\n",
    "rs"
   ]
  },
  {
   "cell_type": "markdown",
   "metadata": {},
   "source": [
    "__Q3:__ What is the mean of this sample? Is it exactly equal to the value you expected? Hint: the sample was drawn from the standard normal distribution. If you want a reminder of the properties of this distribution, check out p. 85 of *AoS*. "
   ]
  },
  {
   "cell_type": "markdown",
   "metadata": {},
   "source": [
    "__A:__"
   ]
  },
  {
   "cell_type": "code",
   "execution_count": 4,
   "metadata": {},
   "outputs": [
    {
     "name": "stdout",
     "output_type": "stream",
     "text": [
      "0.19355593334131074\n"
     ]
    }
   ],
   "source": [
    "# Calculate and print the mean here, hint: use np.mean()\n",
    "print(np.mean(rs))"
   ]
  },
  {
   "cell_type": "markdown",
   "metadata": {},
   "source": [
    "__Q4:__ What is the standard deviation of these numbers? Calculate this manually here as $\\sqrt{\\frac{\\sum_i(x_i - \\bar{x})^2}{n}}$ (This is just the definition of **standard deviation** given by Professor Spiegelhalter on p.403 of *AoS*). Hint: np.sqrt() and np.sum() will be useful here and remember that numPy supports [broadcasting](https://docs.scipy.org/doc/numpy/user/basics.broadcasting.html)."
   ]
  },
  {
   "cell_type": "markdown",
   "metadata": {},
   "source": [
    "__A:__"
   ]
  },
  {
   "cell_type": "code",
   "execution_count": 5,
   "metadata": {},
   "outputs": [
    {
     "name": "stdout",
     "output_type": "stream",
     "text": [
      "variance:  0.9227899466393845\n",
      "std:  0.9606195639478641\n"
     ]
    }
   ],
   "source": [
    "variance = sum(pow(r - np.mean(rs), 2) for r in rs) / len(rs)\n",
    "std = np.sqrt(variance)\n",
    "print('variance: ',variance)\n",
    "print('std: ',std)"
   ]
  },
  {
   "cell_type": "markdown",
   "metadata": {},
   "source": [
    "Here we have calculated the actual standard deviation of a small data set (of size 5). But in this case, this small data set is actually a sample from our larger (infinite) population. In this case, the population is infinite because we could keep drawing our normal random variates until our computers die! \n",
    "\n",
    "In general, the sample mean we calculate will not be equal to the population mean (as we saw above). A consequence of this is that the sum of squares of the deviations from the _population_ mean will be bigger than the sum of squares of the deviations from the _sample_ mean. In other words, the sum of squares of the deviations from the _sample_ mean is too small to give an unbiased estimate of the _population_ variance. An example of this effect is given [here](https://en.wikipedia.org/wiki/Bessel%27s_correction#Source_of_bias). Scaling our estimate of the variance by the factor $n/(n-1)$ gives an unbiased estimator of the population variance. This factor is known as [Bessel's correction](https://en.wikipedia.org/wiki/Bessel%27s_correction). The consequence of this is that the $n$ in the denominator is replaced by $n-1$.\n",
    "\n",
    "You can see Bessel's correction reflected in Professor Spiegelhalter's definition of **variance** on p. 405 of *AoS*.\n",
    "\n",
    "__Q5:__ If all we had to go on was our five samples, what would be our best estimate of the population standard deviation? Use Bessel's correction ($n-1$ in the denominator), thus $\\sqrt{\\frac{\\sum_i(x_i - \\bar{x})^2}{n-1}}$."
   ]
  },
  {
   "cell_type": "markdown",
   "metadata": {},
   "source": [
    "__A:__"
   ]
  },
  {
   "cell_type": "code",
   "execution_count": 6,
   "metadata": {},
   "outputs": [
    {
     "name": "stdout",
     "output_type": "stream",
     "text": [
      "1.0740053227518152\n"
     ]
    }
   ],
   "source": [
    "variance_b = sum(pow(r - np.mean(rs), 2) for r in rs) / (len(rs) - 1)\n",
    "std_b = np.sqrt(variance_b)\n",
    "print(std_b)"
   ]
  },
  {
   "cell_type": "markdown",
   "metadata": {},
   "source": [
    "__Q6:__ Now use numpy's std function to calculate the standard deviation of our random samples. Which of the above standard deviations did it return?"
   ]
  },
  {
   "cell_type": "markdown",
   "metadata": {},
   "source": [
    "__A:__"
   ]
  },
  {
   "cell_type": "code",
   "execution_count": 7,
   "metadata": {},
   "outputs": [
    {
     "name": "stdout",
     "output_type": "stream",
     "text": [
      "0.9606195639478641\n"
     ]
    }
   ],
   "source": [
    "print(np.std(rs))"
   ]
  },
  {
   "cell_type": "markdown",
   "metadata": {},
   "source": [
    "__Q7:__ Consult the documentation for np.std() to see how to apply the correction for estimating the population parameter and verify this produces the expected result."
   ]
  },
  {
   "cell_type": "markdown",
   "metadata": {},
   "source": [
    "__A:__"
   ]
  },
  {
   "cell_type": "code",
   "execution_count": 21,
   "metadata": {},
   "outputs": [
    {
     "data": {
      "text/plain": [
       "1.0740053227518152"
      ]
     },
     "execution_count": 21,
     "metadata": {},
     "output_type": "execute_result"
    }
   ],
   "source": [
    "# we can use the ddof parameter to divide by values less than n, if ddof is 1, the divisor will be n-1, 4 in this case"
   ]
  },
  {
   "cell_type": "code",
   "execution_count": 8,
   "metadata": {},
   "outputs": [
    {
     "data": {
      "text/plain": [
       "1.0740053227518152"
      ]
     },
     "execution_count": 8,
     "metadata": {},
     "output_type": "execute_result"
    }
   ],
   "source": [
    "np.std(rs, ddof=1)"
   ]
  },
  {
   "cell_type": "markdown",
   "metadata": {},
   "source": [
    "### Summary of section"
   ]
  },
  {
   "cell_type": "markdown",
   "metadata": {},
   "source": [
    "In this section, you've been introduced to the scipy.stats package and used it to draw a small sample from the standard normal distribution. You've calculated the average (the mean) of this sample and seen that this is not exactly equal to the expected population parameter (which we know because we're generating the random variates from a specific, known distribution). You've been introduced to two ways of calculating the standard deviation; one uses $n$ in the denominator and the other uses $n-1$ (Bessel's correction). You've also seen which of these calculations np.std() performs by default and how to get it to generate the other."
   ]
  },
  {
   "cell_type": "markdown",
   "metadata": {},
   "source": [
    "You use $n$ as the denominator if you want to calculate the standard deviation of a sequence of numbers. You use $n-1$ if you are using this sequence of numbers to estimate the population parameter. This brings us to some terminology that can be a little confusing.\n",
    "\n",
    "The population parameter is traditionally written as $\\sigma$ and the sample statistic as $s$. Rather unhelpfully, $s$ is also called the sample standard deviation (using $n-1$) whereas the standard deviation of the sample uses $n$. That's right, we have the sample standard deviation and the standard deviation of the sample and they're not the same thing!\n",
    "\n",
    "The sample standard deviation\n",
    "\\begin{equation}\n",
    "s = \\sqrt{\\frac{\\sum_i(x_i - \\bar{x})^2}{n-1}} \\approx \\sigma,\n",
    "\\end{equation}\n",
    "is our best (unbiased) estimate of the population parameter ($\\sigma$).\n",
    "\n",
    "If your dataset _is_ your entire population, you simply want to calculate the population parameter, $\\sigma$, via\n",
    "\\begin{equation}\n",
    "\\sigma = \\sqrt{\\frac{\\sum_i(x_i - \\bar{x})^2}{n}}\n",
    "\\end{equation}\n",
    "as you have complete, full knowledge of your population. In other words, your sample _is_ your population. It's worth noting that we're dealing with what Professor Spiegehalter describes on p. 92 of *AoS* as a **metaphorical population**: we have all the data, and we act as if the data-point is taken from a population at random. We can think of this population as an imaginary space of possibilities. \n",
    "\n",
    "If, however, you have sampled _from_ your population, you only have partial knowledge of the state of your population. In this case, the standard deviation of your sample is not an unbiased estimate of the standard deviation of the population, in which case you seek to estimate that population parameter via the sample standard deviation, which uses the $n-1$ denominator."
   ]
  },
  {
   "cell_type": "markdown",
   "metadata": {},
   "source": [
    "Great work so far! Now let's dive deeper."
   ]
  },
  {
   "cell_type": "markdown",
   "metadata": {},
   "source": [
    "## 3. Sampling distributions"
   ]
  },
  {
   "cell_type": "markdown",
   "metadata": {},
   "source": [
    "So far we've been dealing with the concept of taking a sample from a population to infer the population parameters. One statistic we calculated for a sample was the mean. As our samples will be expected to vary from one draw to another, so will our sample statistics. If we were to perform repeat draws of size $n$ and calculate the mean of each, we would expect to obtain a distribution of values. This is the sampling distribution of the mean. **The Central Limit Theorem (CLT)** tells us that such a distribution will approach a normal distribution as $n$ increases (the intuitions behind the CLT are covered in full on p. 236 of *AoS*). For the sampling distribution of the mean, the standard deviation of this distribution is given by\n",
    "\n",
    "\\begin{equation}\n",
    "\\sigma_{mean} = \\frac{\\sigma}{\\sqrt n}\n",
    "\\end{equation}\n",
    "\n",
    "where $\\sigma_{mean}$ is the standard deviation of the sampling distribution of the mean and $\\sigma$ is the standard deviation of the population (the population parameter)."
   ]
  },
  {
   "cell_type": "markdown",
   "metadata": {},
   "source": [
    "This is important because typically we are dealing with samples from populations and all we know about the population is what we see in the sample. From this sample, we want to make inferences about the population. We may do this, for example, by looking at the histogram of the values and by calculating the mean and standard deviation (as estimates of the population parameters), and so we are intrinsically interested in how these quantities vary across samples. \n",
    "\n",
    "In other words, now that we've taken one sample of size $n$ and made some claims about the general population, what if we were to take another sample of size $n$? Would we get the same result? Would we make the same claims about the general population? This brings us to a fundamental question: _when we make some inference about a population based on our sample, how confident can we be that we've got it 'right'?_\n",
    "\n",
    "We need to think about **estimates and confidence intervals**: those concepts covered in Chapter 7, p. 189, of *AoS*."
   ]
  },
  {
   "cell_type": "markdown",
   "metadata": {},
   "source": [
    "Now, the standard normal distribution (with its variance equal to its standard deviation of one) would not be a great illustration of a key point. Instead, let's imagine we live in a town of 50,000 people and we know the height of everyone in this town. We will have 50,000 numbers that tell us everything about our population. We'll simulate these numbers now and put ourselves in one particular town, called 'town 47', where the population mean height is 172 cm and population standard deviation is 5 cm."
   ]
  },
  {
   "cell_type": "code",
   "execution_count": 9,
   "metadata": {},
   "outputs": [],
   "source": [
    "seed(47)\n",
    "pop_heights = norm.rvs(172, 5, size=50000)"
   ]
  },
  {
   "cell_type": "code",
   "execution_count": 10,
   "metadata": {},
   "outputs": [
    {
     "data": {
      "image/png": "[encoded data removed]",
      "text/plain": [
       "<Figure size 432x288 with 1 Axes>"
      ]
     },
     "metadata": {
      "needs_background": "light"
     },
     "output_type": "display_data"
    }
   ],
   "source": [
    "_ = plt.hist(pop_heights, bins=30)\n",
    "_ = plt.xlabel('height (cm)')\n",
    "_ = plt.ylabel('number of people')\n",
    "_ = plt.title('Distribution of heights in entire town population')\n",
    "_ = plt.axvline(172, color='r')\n",
    "_ = plt.axvline(172+5, color='r', linestyle='--')\n",
    "_ = plt.axvline(172-5, color='r', linestyle='--')\n",
    "_ = plt.axvline(172+10, color='r', linestyle='-.')\n",
    "_ = plt.axvline(172-10, color='r', linestyle='-.')"
   ]
  },
  {
   "cell_type": "markdown",
   "metadata": {},
   "source": [
    "Now, 50,000 people is rather a lot to chase after with a tape measure. If all you want to know is the average height of the townsfolk, then can you just go out and measure a sample to get a pretty good estimate of the average height?"
   ]
  },
  {
   "cell_type": "code",
   "execution_count": 11,
   "metadata": {},
   "outputs": [],
   "source": [
    "def townsfolk_sampler(n):\n",
    "    return np.random.choice(pop_heights, n)"
   ]
  },
  {
   "cell_type": "markdown",
   "metadata": {},
   "source": [
    "Let's say you go out one day and randomly sample 10 people to measure."
   ]
  },
  {
   "cell_type": "code",
   "execution_count": 12,
   "metadata": {},
   "outputs": [],
   "source": [
    "seed(47)\n",
    "daily_sample1 = townsfolk_sampler(10)"
   ]
  },
  {
   "cell_type": "code",
   "execution_count": 13,
   "metadata": {},
   "outputs": [
    {
     "data": {
      "image/png": "[encoded data removed]",
      "text/plain": [
       "<Figure size 432x288 with 1 Axes>"
      ]
     },
     "metadata": {
      "needs_background": "light"
     },
     "output_type": "display_data"
    }
   ],
   "source": [
    "_ = plt.hist(daily_sample1, bins=10)\n",
    "_ = plt.xlabel('height (cm)')\n",
    "_ = plt.ylabel('number of people')\n",
    "_ = plt.title('Distribution of heights in sample size 10')"
   ]
  },
  {
   "cell_type": "markdown",
   "metadata": {},
   "source": [
    "The sample distribution doesn't resemble what we take the population distribution to be. What do we get for the mean?"
   ]
  },
  {
   "cell_type": "code",
   "execution_count": 39,
   "metadata": {},
   "outputs": [
    {
     "data": {
      "text/plain": [
       "173.47911444163503"
      ]
     },
     "execution_count": 39,
     "metadata": {},
     "output_type": "execute_result"
    }
   ],
   "source": [
    "np.mean(daily_sample1)"
   ]
  },
  {
   "cell_type": "markdown",
   "metadata": {},
   "source": [
    "And if we went out and repeated this experiment?"
   ]
  },
  {
   "cell_type": "code",
   "execution_count": 40,
   "metadata": {},
   "outputs": [],
   "source": [
    "daily_sample2 = townsfolk_sampler(10)"
   ]
  },
  {
   "cell_type": "code",
   "execution_count": 11,
   "metadata": {},
   "outputs": [
    {
     "data": {
      "text/plain": [
       "173.7317666636263"
      ]
     },
     "execution_count": 11,
     "metadata": {},
     "output_type": "execute_result"
    }
   ],
   "source": [
    "np.mean(daily_sample2)"
   ]
  },
  {
   "cell_type": "markdown",
   "metadata": {},
   "source": [
    "__Q8:__ Simulate performing this random trial every day for a year, calculating the mean of each daily sample of 10, and plot the resultant sampling distribution of the mean."
   ]
  },
  {
   "cell_type": "markdown",
   "metadata": {},
   "source": [
    "__A:__"
   ]
  },
  {
   "cell_type": "code",
   "execution_count": null,
   "metadata": {},
   "outputs": [],
   "source": []
  },
  {
   "cell_type": "code",
   "execution_count": 14,
   "metadata": {},
   "outputs": [
    {
     "name": "stdout",
     "output_type": "stream",
     "text": [
      "[173.47911444 173.73176666 172.54893867 171.4325732  172.71516131\n",
      " 172.82799509 172.7210462  171.35684252 172.06082916 175.02116166\n",
      " 172.87297443 173.1069571  174.28251319 172.16799413 172.26771663\n",
      " 174.11487595 173.76989561 173.53587662 171.73109637 173.61929335\n",
      " 171.41227032 169.89126229 171.50855065 170.79777103 172.13293592\n",
      " 174.04237966 171.41699712 169.68751211 170.70138979 170.50288822\n",
      " 171.12273358 172.18184914 172.68945746 171.00010049 170.89451147\n",
      " 171.09020297 171.2553361  172.10797846 171.08827014 172.65135312\n",
      " 175.07068981 169.97597644 172.27976748 169.68001261 172.80409332\n",
      " 172.5522942  173.83054119 173.37568836 171.89359356 171.66657422\n",
      " 169.90047439 172.72984382 169.4604308  171.90668835 174.31024505\n",
      " 172.95492366 170.26013472 171.62782408 171.93287814 172.67107823\n",
      " 173.35560535 171.59289235 174.0199633  168.70526103 174.42915449\n",
      " 172.99782989 169.85679627 170.51072225 169.90321606 170.1522396\n",
      " 171.69847097 172.12475641 170.73934214 169.41839478 172.90126388\n",
      " 173.34996598 172.31408857 170.95008031 168.60260634 169.23740478\n",
      " 168.98395308 170.24977041 172.28866882 169.4954901  172.14048141\n",
      " 170.63029872 170.81450578 172.75640104 172.27070495 172.75102003\n",
      " 170.29337424 171.3751193  171.19824058 175.67828438 169.98345772\n",
      " 171.97617797 170.56013527 171.50909868 172.75712339 173.20951148\n",
      " 172.10653393 173.14812712 170.10688636 173.3757843  172.13932695\n",
      " 169.68126101 173.51940617 170.64933193 172.93026068 171.5599094\n",
      " 171.92304718 173.64455234 171.97230994 171.41392942 173.09648158\n",
      " 171.59077758 172.02580024 172.21608501 172.00719346 172.33599702\n",
      " 171.02864819 173.37309659 171.63339661 172.24280704 170.96259687\n",
      " 175.03094575 173.64280418 172.95723099 171.98211484 172.86230119\n",
      " 173.28189593 170.74391387 171.85618467 174.51640493 171.97578166\n",
      " 172.85323569 170.88633479 172.02699101 171.00702878 174.46684086\n",
      " 167.84829287 170.8732633  172.24076332 174.06036646 173.65199869\n",
      " 171.31020239 172.87577178 169.00973761 169.36066339 172.83945811\n",
      " 173.28494909 167.94708299 171.49448138 173.26676196 174.36603867\n",
      " 169.38351078 170.81702578 172.65881074 170.50439352 174.4853054\n",
      " 169.28374481 173.11587199 169.48869928 174.05802463 170.41037397\n",
      " 170.38508328 171.14614333 171.28870073 172.7667142  169.9547176\n",
      " 172.86382182 172.62255114 172.33656269 168.62332167 172.71113575\n",
      " 171.82186352 173.28085694 169.06595378 174.08013924 174.97733493\n",
      " 171.28213573 171.67308136 169.45634682 173.43393216 170.86374559\n",
      " 173.21556905 169.18626787 171.20026812 171.47106714 173.32428817\n",
      " 171.26916949 169.74157083 172.91823143 171.78081907 170.11860847\n",
      " 171.8702608  170.74069831 172.46488875 172.98225023 174.46081103\n",
      " 173.49400936 169.51557464 171.7306313  170.71693533 174.66020486\n",
      " 172.38497802 172.79482744 172.66798523 173.03683237 169.03388575\n",
      " 170.27625726 171.65483978 173.91100656 172.36666043 173.0806786\n",
      " 170.54543211 171.63218645 173.75734815 173.46636022 173.93185477\n",
      " 172.21851081 174.99259084 172.79446185 171.51052052 173.24255009\n",
      " 171.88305233 172.78335535 171.91694787 170.12924519 171.61250363\n",
      " 172.9024507  173.09703321 172.13187274 173.16713943 170.08389854\n",
      " 173.93739863 171.38318019 173.06487921 171.67286845 172.74454333\n",
      " 170.29325492 168.50440626 172.52943026 168.22985199 173.63375684\n",
      " 173.82239049 170.64928889 171.78032897 169.31058691 170.90044257\n",
      " 172.67827046 172.04223094 173.17659184 169.49895502 172.8853684\n",
      " 173.3982672  169.67183447 169.34348126 175.16317039 170.5948134\n",
      " 170.58426243 172.72334025 172.13078881 169.0160963  171.15681559\n",
      " 174.68493128 169.29446475 171.65686646 173.81720973 170.72391555\n",
      " 170.51592674 174.09262586 168.74354263 171.60449755 173.3524929\n",
      " 169.59524622 172.31825116 173.4305153  175.9794546  172.41542958\n",
      " 172.48108913 175.7323556  173.30917672 170.50163072 171.47442801\n",
      " 172.9211163  171.16390425 173.15958686 170.61994642 170.84177739\n",
      " 171.99038709 174.23130176 170.48550605 172.02085225 172.08650337\n",
      " 173.12384812 170.09817773 171.47145871 172.78753152 172.85937741\n",
      " 169.39067373 172.88433437 172.09661415 172.27425697 170.71145486\n",
      " 172.19296598 167.52865966 172.32570464 172.72742669 172.52169572\n",
      " 172.05940736 168.87716482 170.44810196 173.01149456 172.52292733\n",
      " 169.76693474 169.46540233 173.02223017 170.27061512 171.18421421\n",
      " 173.06750478 173.43258352 171.82939845 170.92672945 169.81785832\n",
      " 171.92871074 170.34135389 169.05442315 172.84601765 171.73522189\n",
      " 169.21238119 172.29730174 169.99961439 170.02830791 171.7506479\n",
      " 170.76693517 173.98100267 169.92358517 174.53205579 173.21890262\n",
      " 174.25370792 172.91850749 172.68876888 172.06431909 169.88770099\n",
      " 171.4607949  171.48307828 172.59879899 172.37504542 168.70639919\n",
      " 172.76066643 171.66341855 173.98434387 171.42827851 171.77118446\n",
      " 169.17922507 173.78289555 170.82035701 170.98291389 172.0221817\n",
      " 173.20080179 172.85589043 171.90248974 170.45743937 171.64487927]\n"
     ]
    }
   ],
   "source": [
    "seed(47)\n",
    "# take your samples here\n",
    "daily_mean = []\n",
    "for x in range(365):\n",
    "    mean = np.mean(townsfolk_sampler(10))\n",
    "    daily_mean.append(mean)\n",
    "daily_mean = np.array(daily_mean)\n",
    "print(daily_mean)"
   ]
  },
  {
   "cell_type": "code",
   "execution_count": 53,
   "metadata": {},
   "outputs": [
    {
     "data": {
      "image/png": "[encoded data removed]",
      "text/plain": [
       "<Figure size 432x288 with 1 Axes>"
      ]
     },
     "metadata": {
      "needs_background": "light"
     },
     "output_type": "display_data"
    }
   ],
   "source": [
    "_ = plt.hist(daily_mean)\n",
    "_ = plt.xlabel('mean height')\n",
    "_ = plt.ylabel('frequency')\n",
    "_ = plt.title('Distribution of mean Height for Town 47')"
   ]
  },
  {
   "cell_type": "markdown",
   "metadata": {},
   "source": [
    "The above is the distribution of the means of samples of size 10 taken from our population. The Central Limit Theorem tells us the expected mean of this distribution will be equal to the population mean, and standard deviation will be $\\sigma / \\sqrt n$, which, in this case, should be approximately 1.58."
   ]
  },
  {
   "cell_type": "markdown",
   "metadata": {},
   "source": [
    "__Q9:__ Verify the above results from the CLT."
   ]
  },
  {
   "cell_type": "markdown",
   "metadata": {},
   "source": [
    "__A:__"
   ]
  },
  {
   "cell_type": "code",
   "execution_count": 54,
   "metadata": {},
   "outputs": [
    {
     "data": {
      "text/plain": [
       "171.8660049358649"
      ]
     },
     "execution_count": 54,
     "metadata": {},
     "output_type": "execute_result"
    }
   ],
   "source": [
    "np.mean(daily_mean)"
   ]
  },
  {
   "cell_type": "code",
   "execution_count": 55,
   "metadata": {},
   "outputs": [
    {
     "data": {
      "text/plain": [
       "1.5756704135286475"
      ]
     },
     "execution_count": 55,
     "metadata": {},
     "output_type": "execute_result"
    }
   ],
   "source": [
    "np.std(daily_mean)"
   ]
  },
  {
   "cell_type": "markdown",
   "metadata": {},
   "source": [
    "Remember, in this instance, we knew our population parameters, that the average height really is 172 cm and the standard deviation is 5 cm, and we see some of our daily estimates of the population mean were as low as around 168 and some as high as 176."
   ]
  },
  {
   "cell_type": "markdown",
   "metadata": {},
   "source": [
    "__Q10:__ Repeat the above year's worth of samples but for a sample size of 50 (perhaps you had a bigger budget for conducting surveys that year)! Would you expect your distribution of sample means to be wider (more variable) or narrower (more consistent)? Compare your resultant summary statistics to those predicted by the CLT."
   ]
  },
  {
   "cell_type": "markdown",
   "metadata": {},
   "source": [
    "__A:__"
   ]
  },
  {
   "cell_type": "code",
   "execution_count": 15,
   "metadata": {},
   "outputs": [
    {
     "name": "stdout",
     "output_type": "stream",
     "text": [
      "[172.78151086 172.79757493 172.9396311  173.35420758 171.14855804\n",
      " 171.27023338 171.57773043 171.63862816 171.96210793 172.66373831\n",
      " 171.66153648 171.88936777 172.42057531 170.68416081 171.37644564\n",
      " 170.8908292  170.63167276 171.84458611 171.70569524 172.00240936\n",
      " 172.17533173 171.66803384 172.41006409 172.03517066 171.84810906\n",
      " 173.29507939 172.47483621 172.24808623 171.73493693 171.07916666\n",
      " 172.07186282 171.56980924 171.27134293 171.10827183 171.83147861\n",
      " 172.64522968 171.34184833 171.67949207 171.16567986 172.50378182\n",
      " 172.0234711  171.98370176 172.25788853 172.66663634 172.95172682\n",
      " 171.66502087 172.27647893 172.56057396 170.63814005 171.29260756\n",
      " 172.05628333 171.63431334 171.12226068 172.03547756 171.66181714\n",
      " 172.74777937 172.69973604 171.74126625 172.1629101  172.06807869\n",
      " 171.47146682 171.45929054 171.38381921 170.74187931 171.8148149\n",
      " 171.18114547 170.65765063 172.48449628 172.36260087 171.32482336\n",
      " 172.32157836 171.35751464 172.01230012 171.45586797 172.60832645\n",
      " 172.90923065 171.82329604 172.02353512 172.69244684 172.59433548\n",
      " 171.99559211 170.88697445 171.1287369  173.3049051  172.69005487\n",
      " 171.31418515 171.93620538 170.84661951 171.94208154 172.70835375\n",
      " 172.10681957 172.08204874 172.0857165  172.28737626 172.04409393\n",
      " 171.72714932 171.61089945 171.40343324 172.30606391 173.14332166\n",
      " 172.27657328 171.86275142 171.50224664 170.07952859 172.51890093\n",
      " 171.22251422 172.67348327 171.32938142 171.0038051  172.04855887\n",
      " 172.35372679 170.67921569 172.99986959 172.2632947  172.03728152\n",
      " 172.35291481 172.11903049 172.00660447 172.46448231 172.48428153\n",
      " 173.01699804 170.89881785 171.42254597 171.3728981  171.24147529\n",
      " 172.86603311 172.39453776 171.30716428 171.40195403 172.76196181\n",
      " 172.32905324 172.35544907 172.54897067 172.98899632 171.23008297\n",
      " 171.76007647 171.15894561 172.29993063 171.83028602 171.32862238\n",
      " 170.77936768 172.36292504 172.06273512 172.45722132 171.47259301\n",
      " 172.7044805  170.90337938 171.49773846 171.92281752 172.86154989\n",
      " 172.84067533 171.93324379 171.74883389 171.98380721 171.46917464\n",
      " 172.61468935 172.91164034 173.15753288 172.27759829 171.67742968\n",
      " 171.54975021 171.18582241 171.66755047 172.41658297 173.04107187\n",
      " 172.82076706 171.46704286 172.96233338 172.12934776 172.08330965\n",
      " 171.80069167 172.34308489 171.88215306 171.1559085  171.8536445\n",
      " 172.9346033  173.18000858 171.63724983 173.41627609 171.45107343\n",
      " 170.76490777 171.63809255 171.74032429 173.80301249 171.74462296\n",
      " 173.62353493 171.26475025 172.06979893 172.17030823 170.44348582\n",
      " 172.73644708 172.19090153 170.65786048 172.10099772 171.71531554\n",
      " 171.978679   171.99897229 172.43645914 171.12433229 172.03204757\n",
      " 171.30211258 172.00669486 172.38311873 171.33568708 171.33985719\n",
      " 171.95870434 171.14962616 172.57829521 172.42033434 171.54928743\n",
      " 172.57237305 171.56614037 171.37921101 171.52449936 171.33306899\n",
      " 171.82625547 171.4437653  171.98732673 172.00947625 172.81511936\n",
      " 171.91731068 172.09771965 172.32574513 172.60347671 172.44053363\n",
      " 170.74684522 170.98868067 171.84561307 171.8761956  173.16669451\n",
      " 171.75823041 172.31744287 172.26066374 172.90387119 172.15420947\n",
      " 172.41611963 170.69078116 172.74649502 171.07615435 172.02698832\n",
      " 172.00554677 172.74745263 171.65945616 172.42931787 171.31139266\n",
      " 172.86340639 172.63046912 171.90607198 170.72003647 172.10949276\n",
      " 171.45152053 171.86770717 171.39371406 172.14407558 171.86145846\n",
      " 171.06431576 171.11107166 171.97515142 172.25074521 172.18561391\n",
      " 172.48672545 172.62914955 172.8416069  172.95766915 173.1046161\n",
      " 171.41466282 171.8909185  171.91765494 171.38567286 172.55801151\n",
      " 170.83751769 172.60219502 171.75057973 171.96173039 171.84660491\n",
      " 172.35776792 171.245878   171.93438007 171.86062766 171.84556709\n",
      " 171.44970934 172.74576861 170.38777848 172.34668635 172.80384644\n",
      " 171.91877901 172.66506617 170.78590101 172.11850649 170.75665957\n",
      " 171.71510207 172.10742863 172.51206031 171.65287206 172.55011484\n",
      " 171.80014021 171.68322903 171.72240275 171.5815793  172.89233456\n",
      " 171.3554875  171.21277983 172.50712891 170.6081084  172.58764075\n",
      " 172.59321378 172.75315782 171.78472782 170.56401239 172.65025383\n",
      " 172.50016154 171.01133752 171.89707218 171.39777018 171.58887069\n",
      " 172.17453749 172.54223282 171.25478419 171.48147134 171.46642823\n",
      " 171.58713991 172.04420677 172.82918745 172.51828645 172.55791706\n",
      " 170.41746242 172.21333957 170.64348988 172.47640439 171.82298913\n",
      " 170.67173817 172.69660769 171.63762458 172.02274651 172.59149521\n",
      " 173.0457289  171.4211434  171.91587859 172.52349848 171.99752955\n",
      " 172.67855542 171.36004754 171.60437385 172.22115468 171.55142176\n",
      " 171.10909446 171.08267096 172.4930815  171.09242607 172.17588304\n",
      " 172.31210007 171.55974698 172.96717428 170.96956889 172.40049193\n",
      " 172.86441734 171.11341965 170.43821024 171.37458573 172.38010538\n",
      " 173.39919328 172.57927554 171.75231515 171.92714893 172.78806643]\n"
     ]
    }
   ],
   "source": [
    "seed(47)\n",
    "# calculate daily means from the larger sample size here\n",
    "\n",
    "daily_mean2 = []\n",
    "for x in range(365):\n",
    "    mean = np.mean(townsfolk_sampler(50))\n",
    "    daily_mean2.append(mean)\n",
    "daily_mean2 = np.array(daily_mean2)\n",
    "print(daily_mean2)"
   ]
  },
  {
   "cell_type": "code",
   "execution_count": 59,
   "metadata": {},
   "outputs": [
    {
     "name": "stdout",
     "output_type": "stream",
     "text": [
      "171.94366080916114\n",
      "0.6736107539771146\n"
     ]
    },
    {
     "data": {
      "image/png": "[encoded data removed]",
      "text/plain": [
       "<Figure size 432x288 with 1 Axes>"
      ]
     },
     "metadata": {
      "needs_background": "light"
     },
     "output_type": "display_data"
    }
   ],
   "source": [
    "_ = plt.hist(daily_mean2)\n",
    "_ = plt.xlabel('mean height')\n",
    "_ = plt.ylabel('frequency')\n",
    "_ = plt.title('Distribution of mean Height for Town 47')\n",
    "print(np.mean(daily_mean2))\n",
    "print(np.std(daily_mean2))"
   ]
  },
  {
   "cell_type": "markdown",
   "metadata": {},
   "source": [
    "What we've seen so far, then, is that we can estimate population parameters from a sample from the population, and that samples have their own distributions. Furthermore, the larger the sample size, the narrower are those sampling distributions."
   ]
  },
  {
   "cell_type": "markdown",
   "metadata": {},
   "source": [
    "### Normally testing time!"
   ]
  },
  {
   "cell_type": "markdown",
   "metadata": {},
   "source": [
    "All of the above is well and good. We've been sampling from a population we know is normally distributed, we've come to understand when to use $n$ and when to use $n-1$ in the denominator to calculate the spread of a distribution, and we've  seen the Central Limit Theorem in action for a sampling distribution. All seems very well behaved in Frequentist land. But, well, why should we really care?"
   ]
  },
  {
   "cell_type": "markdown",
   "metadata": {},
   "source": [
    "Remember, we rarely (if ever) actually know our population parameters but we still have to estimate them somehow. If we want to make inferences to conclusions like \"this observation is unusual\" or \"my population mean has changed\" then we need to have some idea of what the underlying distribution is so we can calculate relevant probabilities. In frequentist inference, we use the formulae above to deduce these population parameters. Take a moment in the next part of this assignment to refresh your understanding of how these probabilities work."
   ]
  },
  {
   "cell_type": "markdown",
   "metadata": {},
   "source": [
    "Recall some basic properties of the standard normal distribution, such as that about 68% of observations are within plus or minus 1 standard deviation of the mean. Check out the precise definition of a normal distribution on p. 394 of *AoS*. \n",
    "\n",
    "__Q11:__ Using this fact, calculate the probability of observing the value 1 or less in a single observation from the standard normal distribution. Hint: you may find it helpful to sketch the standard normal distribution (the familiar bell shape) and mark the number of standard deviations from the mean on the x-axis and shade the regions of the curve that contain certain percentages of the population."
   ]
  },
  {
   "cell_type": "markdown",
   "metadata": {},
   "source": [
    "__A:__ 84% - 68% are within 1 standard deviation on either side and 50% are above/below the mean = \n",
    "\n",
    "50% for all the values below the mean\n",
    "34% for all values above the mean AND within 1 standard deviation\n",
    "50% + (68%/2) = 84%"
   ]
  },
  {
   "cell_type": "markdown",
   "metadata": {},
   "source": [
    "Calculating this probability involved calculating the area under the curve from the value of 1 and below. To put it in mathematical terms, we need to *integrate* the probability density function. We could just add together the known areas of chunks (from -Inf to 0 and then 0 to $+\\sigma$ in the example above). One way to do this is to look up tables (literally). Fortunately, scipy has this functionality built in with the cdf() function."
   ]
  },
  {
   "cell_type": "markdown",
   "metadata": {},
   "source": [
    "__Q12:__ Use the cdf() function to answer the question above again and verify you get the same answer."
   ]
  },
  {
   "cell_type": "markdown",
   "metadata": {},
   "source": [
    "__A:__"
   ]
  },
  {
   "cell_type": "code",
   "execution_count": 16,
   "metadata": {},
   "outputs": [
    {
     "data": {
      "text/plain": [
       "0.8413447460685429"
      ]
     },
     "execution_count": 16,
     "metadata": {},
     "output_type": "execute_result"
    }
   ],
   "source": [
    "norm.cdf(1)"
   ]
  },
  {
   "cell_type": "markdown",
   "metadata": {},
   "source": [
    "__Q13:__ Using our knowledge of the population parameters for our townsfolks' heights, what is the probability of selecting one person at random and their height being 177 cm or less? Calculate this using both of the approaches given above."
   ]
  },
  {
   "cell_type": "markdown",
   "metadata": {},
   "source": [
    "__A:__"
   ]
  },
  {
   "cell_type": "code",
   "execution_count": 66,
   "metadata": {},
   "outputs": [
    {
     "name": "stdout",
     "output_type": "stream",
     "text": [
      "0.8413447460685429\n",
      "0.8413447460685429\n"
     ]
    }
   ],
   "source": [
    "print(norm.cdf(x=177, loc=172, scale=5))\n",
    "print(norm.cdf(1))"
   ]
  },
  {
   "cell_type": "markdown",
   "metadata": {},
   "source": [
    "__Q14:__ Turning this question around — suppose we randomly pick one person and measure their height and find they are 2.00 m tall. How surprised should we be at this result, given what we know about the population distribution? In other words, how likely would it be to obtain a value at least as extreme as this? Express this as a probability. "
   ]
  },
  {
   "cell_type": "markdown",
   "metadata": {},
   "source": [
    "__A:__"
   ]
  },
  {
   "cell_type": "code",
   "execution_count": 17,
   "metadata": {},
   "outputs": [
    {
     "data": {
      "text/plain": [
       "1.0717590259723409e-08"
      ]
     },
     "execution_count": 17,
     "metadata": {},
     "output_type": "execute_result"
    }
   ],
   "source": [
    "#probability is almost 0, so we should be very surprised\n",
    "1 - norm.cdf(x=200, loc=172, scale=5)\n"
   ]
  },
  {
   "cell_type": "markdown",
   "metadata": {},
   "source": [
    "What we've just done is calculate the ***p-value*** of the observation of someone 2.00m tall (review *p*-values if you need to on p. 399 of *AoS*). We could calculate this probability by virtue of knowing the population parameters. We were then able to use the known properties of the relevant normal distribution to calculate the probability of observing a value at least as extreme as our test value."
   ]
  },
  {
   "cell_type": "markdown",
   "metadata": {},
   "source": [
    "We're about to come to a pinch, though. We've said a couple of times that we rarely, if ever, know the true population parameters; we have to estimate them from our sample and we cannot even begin to estimate the standard deviation from a single observation. \n",
    "\n",
    "This is very true and usually we have sample sizes larger than one. This means we can calculate the mean of the sample as our best estimate of the population mean and the standard deviation as our best estimate of the population standard deviation. \n",
    "\n",
    "In other words, we are now coming to deal with the sampling distributions we mentioned above as we are generally concerned with the properties of the sample means we obtain. \n",
    "\n",
    "Above, we highlighted one result from the CLT, whereby the sampling distribution (of the mean) becomes narrower and narrower with the square root of the sample size. We remind ourselves that another result from the CLT is that _even if the underlying population distribution is not normal, the sampling distribution will tend to become normal with sufficiently large sample size_. (**Check out p. 199 of AoS if you need to revise this**). This is the key driver for us 'requiring' a certain sample size, for example you may frequently see a minimum sample size of 30 stated in many places. In reality this is simply a rule of thumb; if the underlying distribution is approximately normal then your sampling distribution will already be pretty normal, but if the underlying distribution is heavily skewed then you'd want to increase your sample size."
   ]
  },
  {
   "cell_type": "markdown",
   "metadata": {},
   "source": [
    "__Q15:__ Let's now start from the position of knowing nothing about the heights of people in our town.\n",
    "* Use the random seed of 47, to randomly sample the heights of 50 townsfolk\n",
    "* Estimate the population mean using np.mean\n",
    "* Estimate the population standard deviation using np.std (remember which denominator to use!)\n",
    "* Calculate the (95%) [margin of error](https://www.statisticshowto.datasciencecentral.com/probability-and-statistics/hypothesis-testing/margin-of-error/#WhatMofE) (use the exact critial z value to 2 decimal places - [look this up](https://www.statisticshowto.datasciencecentral.com/probability-and-statistics/find-critical-values/) or use norm.ppf()) Recall that the ***margin of error*** is mentioned on p. 189 of the *AoS* and discussed in depth in that chapter). \n",
    "* Calculate the 95% Confidence Interval of the mean (***confidence intervals*** are defined on p. 385 of *AoS*) \n",
    "* Does this interval include the true population mean?"
   ]
  },
  {
   "cell_type": "markdown",
   "metadata": {},
   "source": [
    "__A:__"
   ]
  },
  {
   "cell_type": "code",
   "execution_count": 18,
   "metadata": {},
   "outputs": [],
   "source": [
    "seed(47)\n",
    "# take your sample now\n",
    "sample_1 = townsfolk_sampler(50)"
   ]
  },
  {
   "cell_type": "code",
   "execution_count": 21,
   "metadata": {},
   "outputs": [
    {
     "name": "stdout",
     "output_type": "stream",
     "text": [
      "172.7815108576788\n"
     ]
    }
   ],
   "source": [
    "sample_mean = np.mean(sample_1)\n",
    "print(sample_mean)"
   ]
  },
  {
   "cell_type": "code",
   "execution_count": 22,
   "metadata": {},
   "outputs": [
    {
     "name": "stdout",
     "output_type": "stream",
     "text": [
      "4.195424364433547\n"
     ]
    }
   ],
   "source": [
    "sample_std = np.std(sample_1, ddof=1)\n",
    "print(sample_std)"
   ]
  },
  {
   "cell_type": "code",
   "execution_count": 23,
   "metadata": {},
   "outputs": [
    {
     "name": "stdout",
     "output_type": "stream",
     "text": [
      "1.1628909342876539\n"
     ]
    }
   ],
   "source": [
    "margin_of_error = (norm.ppf(0.975)) * (sample_std/ (np.sqrt(50)))\n",
    "print(margin_of_error)"
   ]
  },
  {
   "cell_type": "code",
   "execution_count": 24,
   "metadata": {},
   "outputs": [
    {
     "name": "stdout",
     "output_type": "stream",
     "text": [
      "171.61861992339115 173.94440179196644\n"
     ]
    }
   ],
   "source": [
    "low_95 = sample_mean - margin_of_error\n",
    "high_95 = sample_mean + margin_of_error\n",
    "print(low_95, high_95)"
   ]
  },
  {
   "cell_type": "markdown",
   "metadata": {},
   "source": [
    "__Q16:__ Above, we calculated the confidence interval using the critical z value. What is the problem with this? What requirement, or requirements, are we (strictly) failing?"
   ]
  },
  {
   "cell_type": "markdown",
   "metadata": {},
   "source": [
    "__A:__ - We should've used the t-score vs the z-score because we didn't have the population standard deviation."
   ]
  },
  {
   "cell_type": "markdown",
   "metadata": {},
   "source": [
    "__Q17:__ Calculate the 95% confidence interval for the mean using the _t_ distribution. Is this wider or narrower than that based on the normal distribution above? If you're unsure, you may find this [resource](https://www.statisticshowto.datasciencecentral.com/probability-and-statistics/confidence-interval/) useful. For calculating the critical value, remember how you could calculate this for the normal distribution using norm.ppf()."
   ]
  },
  {
   "cell_type": "markdown",
   "metadata": {},
   "source": [
    "__A:__"
   ]
  },
  {
   "cell_type": "code",
   "execution_count": 25,
   "metadata": {},
   "outputs": [
    {
     "name": "stdout",
     "output_type": "stream",
     "text": [
      "2.009575234489209\n"
     ]
    }
   ],
   "source": [
    "t_critical_value = t.ppf(0.975, 50-1)\n",
    "print(t_critical_value)"
   ]
  },
  {
   "cell_type": "code",
   "execution_count": 29,
   "metadata": {},
   "outputs": [
    {
     "data": {
      "text/plain": [
       "1.1923264102757953"
      ]
     },
     "execution_count": 29,
     "metadata": {},
     "output_type": "execute_result"
    }
   ],
   "source": [
    "t_moe = t_critical_value * (sample_std/ (np.sqrt(50)))\n",
    "print(t_moe)"
   ]
  },
  {
   "cell_type": "code",
   "execution_count": 30,
   "metadata": {},
   "outputs": [
    {
     "name": "stdout",
     "output_type": "stream",
     "text": [
      "171.589184447403 173.9738372679546\n"
     ]
    }
   ],
   "source": [
    "tc_low = sample_mean - t_moe\n",
    "tc_high = sample_mean + t_moe\n",
    "print(tc_low, tc_high)"
   ]
  },
  {
   "cell_type": "markdown",
   "metadata": {},
   "source": [
    "This is slightly wider than the previous confidence interval. This reflects the greater uncertainty given that we are estimating population parameters from a sample."
   ]
  },
  {
   "cell_type": "markdown",
   "metadata": {},
   "source": [
    "## 4. Learning outcomes"
   ]
  },
  {
   "cell_type": "markdown",
   "metadata": {},
   "source": [
    "Having completed this project notebook, you now have hands-on experience:\n",
    "* sampling and calculating probabilities from a normal distribution\n",
    "* identifying the correct way to estimate the standard deviation of a population (the population parameter) from a sample\n",
    "* with sampling distribution and now know how the Central Limit Theorem applies\n",
    "* with how to calculate critical values and confidence intervals"
   ]
  },
  {
   "cell_type": "code",
   "execution_count": null,
   "metadata": {},
   "outputs": [],
   "source": []
  }
 ],
 "metadata": {
  "kernelspec": {
   "display_name": "Python 3 (ipykernel)",
   "language": "python",
   "name": "python3"
  },
  "language_info": {
   "codemirror_mode": {
    "name": "ipython",
    "version": 3
   },
   "file_extension": ".py",
   "mimetype": "text/x-python",
   "name": "python",
   "nbconvert_exporter": "python",
   "pygments_lexer": "ipython3",
   "version": "3.9.12"
  }
 },
 "nbformat": 4,
 "nbformat_minor": 2
}
